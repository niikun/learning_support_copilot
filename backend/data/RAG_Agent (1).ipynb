{
  "nbformat": 4,
  "nbformat_minor": 0,
  "metadata": {
    "colab": {
      "provenance": [],
      "machine_shape": "hm",
      "gpuType": "L4",
      "authorship_tag": "ABX9TyPOC8UHgELqhpNTGs3w0awc",
      "include_colab_link": true
    },
    "kernelspec": {
      "name": "python3",
      "display_name": "Python 3"
    },
    "language_info": {
      "name": "python"
    },
    "accelerator": "GPU"
  },
  "cells": [
    {
      "cell_type": "markdown",
      "metadata": {
        "id": "view-in-github",
        "colab_type": "text"
      },
      "source": [
        "<a href=\"https://colab.research.google.com/github/niikun/ai_engineering_day3/blob/main/RAG_Agent.ipynb\" target=\"_parent\"><img src=\"https://colab.research.google.com/assets/colab-badge.svg\" alt=\"Open In Colab\"/></a>"
      ]
    },
    {
      "cell_type": "markdown",
      "source": [
        "# RAG Agent\n",
        "- tool としてRAG、Web検索もツールに持つ  \n",
        "- Langgraphで実装"
      ],
      "metadata": {
        "id": "aGl8Av7C-fKu"
      }
    },
    {
      "cell_type": "markdown",
      "source": [
        "![image.png](data:image/png;base64,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)"
      ],
      "metadata": {
        "id": "3mrqOIAn_Hwa"
      }
    },
    {
      "cell_type": "code",
      "execution_count": null,
      "metadata": {
        "id": "pu1pfsf4XMxa"
      },
      "outputs": [],
      "source": [
        "%%capture --no-stderr\n",
        "%pip install -U langgraph langsmith langchain_openai langchain-community langchain-chroma"
      ]
    },
    {
      "cell_type": "code",
      "source": [
        "from IPython.display import Image,display\n",
        "\n",
        "try:\n",
        "    display(Image(graph.get_graph().draw_mermaid_png()))\n",
        "except Exception:\n",
        "    pass"
      ],
      "metadata": {
        "colab": {
          "base_uri": "https://localhost:8080/",
          "height": 266
        },
        "id": "3-fFGkwRZehl",
        "outputId": "8dd0bf2e-db74-4558-ad62-563f32cd0300"
      },
      "execution_count": null,
      "outputs": [
        {
          "output_type": "display_data",
          "data": {
            "image/png": "[encoded data removed]",
            "text/plain": [
              "<IPython.core.display.Image object>"
            ]
          },
          "metadata": {}
        }
      ]
    },
    {
      "cell_type": "code",
      "source": [
        "# 演習用のコンテンツを取得\n",
        "!git clone https://github.com/matsuolab/lecture-ai-engineering.git"
      ],
      "metadata": {
        "colab": {
          "base_uri": "https://localhost:8080/"
        },
        "id": "AB08uBV_Y1CY",
        "outputId": "78a20961-0e99-48f1-f679-5041f9dc0bf6"
      },
      "execution_count": null,
      "outputs": [
        {
          "output_type": "stream",
          "name": "stdout",
          "text": [
            "Cloning into 'lecture-ai-engineering'...\n",
            "remote: Enumerating objects: 52, done.\u001b[K\n",
            "remote: Total 52 (delta 0), reused 0 (delta 0), pack-reused 52 (from 1)\u001b[K\n",
            "Receiving objects: 100% (52/52), 83.21 KiB | 372.00 KiB/s, done.\n",
            "Resolving deltas: 100% (9/9), done.\n"
          ]
        }
      ]
    },
    {
      "cell_type": "code",
      "source": [
        "question = \"LLMにおけるInference Time Scalingとは？\"\n",
        "gold_answer = \"「Inference Time Scaling」とは、推論時に計算量を増やしてモデルの性能を高める手法です。これはモデルのサイズを大きくする代わりに、難しい入力に対して多くの計算リソースを使うことで、より良い出力を得ようとするアプローチです。\""
      ],
      "metadata": {
        "id": "ItaXROHvbBn5"
      },
      "execution_count": null,
      "outputs": []
    },
    {
      "cell_type": "code",
      "source": [
        "import os\n",
        "import json\n",
        "from typing import Annotated\n",
        "from google.colab import userdata\n",
        "from langchain_openai import ChatOpenAI\n",
        "from langchain_community.document_loaders import TextLoader\n",
        "from langchain_text_splitters import CharacterTextSplitter\n",
        "from langchain_core.prompts import ChatPromptTemplate\n",
        "from langchain_openai import OpenAIEmbeddings\n",
        "from langchain_chroma import Chroma\n",
        "from langchain_core.output_parsers import StrOutputParser\n",
        "from langchain_core.runnables import RunnablePassthrough\n",
        "from langchain.tools import BaseTool\n",
        "from typing import Type,Any,List\n",
        "from langchain.schema import BaseRetriever,Document, AIMessage\n",
        "from langchain_community.tools.tavily_search import TavilySearchResults\n",
        "from langchain_core.messages import BaseMessage\n",
        "from typing_extensions import TypedDict\n",
        "from langgraph.graph import StateGraph, START, END\n",
        "from langgraph.graph.message import add_messages\n",
        "from langgraph.prebuilt import ToolNode,tools_condition\n",
        "from langchain_core.messages import ToolMessage\n",
        "from langgraph.checkpoint.memory import MemorySaver\n",
        "\n",
        "os.environ[\"OPENAI_API_KEY\"] = userdata.get('OPENAI_API_KEY')\n",
        "os.environ[\"LANGSMITH_API_KEY\"] = userdata.get('lang_smith')\n",
        "os.environ[\"TAVILY_API_KEY\"] = userdata.get('TAVILY_API_KEY')\n",
        "%env LANGCHAIN_TRACING_V2=true\n",
        "%env LANGCHAIN_ENDPOINT=\"https://api.smith.langchain.com\"\n",
        "%env LANGSMITH_PROJECT=\"RAG-Agent\"\n",
        "\n",
        "model = ChatOpenAI(model_name=\"gpt-4o-mini\")\n",
        "\n",
        "# テキストローダーの準備\n",
        "loader = TextLoader(\"/content/lecture-ai-engineering/day3/data/LLM2024_day4.txt\")\n",
        "docs = loader.load()\n",
        "\n",
        "# テキストのチャンク分け\n",
        "text_splitter = CharacterTextSplitter(\n",
        "    chunk_size=1000,chunk_overlap=200\n",
        ")\n",
        "all_splits = text_splitter.split_documents(docs)\n",
        "\n",
        "# チャンクの埋め込み準備\n",
        "embeddings = OpenAIEmbeddings(model=\"text-embedding-3-large\")\n",
        "\n",
        "db = Chroma.from_documents(all_splits,embeddings)\n",
        "retriever = db.as_retriever()\n",
        "\n",
        "# promptの生成\n",
        "prompt = ChatPromptTemplate.from_template(\"\"\"\n",
        "以下の文脈をもとに質問に回答してください。\n",
        "'''\n",
        "文脈：\n",
        "{context}\n",
        "'''\n",
        "\n",
        "質問：{question}\n",
        "\"\"\")\n",
        "\n",
        "class RAGTool(BaseTool):\n",
        "    name:str =  \"rag_retrieval\"\n",
        "    description:str = (\n",
        "        \"ドキュメントを検索し、質問に対して関連文脈を提供します。\"\n",
        "        \"入力は文字列のクエリ、出力はモデルへのプロンプト用テキストです。\"\n",
        "    )\n",
        "    retriever: BaseRetriever\n",
        "    prompt_template: ChatPromptTemplate\n",
        "    llm: ChatOpenAI\n",
        "    k: int = 5\n",
        "\n",
        "    def _run(self, query: str) -> str:\n",
        "        # 1) ドキュメント取得\n",
        "        docs = self.retriever.get_relevant_documents(query, k=self.k)\n",
        "        context = \"\\n\\n\".join(d.page_content for d in docs)\n",
        "        # 2) プロンプト組み立て\n",
        "        messages: List[BaseMessage] = self.prompt_template.format_messages(\n",
        "            context=context, question=query\n",
        "        )\n",
        "        # 3) LLM呼び出し → 文字列\n",
        "        output =  self.llm(messages)\n",
        "        return output.content\n",
        "\n",
        "    async def _arun(self, query: str) -> str:\n",
        "        docs = await self.retriever.aget_relevant_documents(query, k=self.k)\n",
        "        context = \"\\n\\n\".join(d.page_content for d in docs)\n",
        "        prompt = self.prompt_template.format(context=context, question=query)\n",
        "        output =  await self.llm.apredict(prompt)\n",
        "        return output.conten\n",
        "\n",
        "memory = MemorySaver()\n",
        "\n",
        "class State(TypedDict):\n",
        "    messages: Annotated[list, add_messages]\n",
        "\n",
        "search_tool = TavilySearchResults(max_results=3)\n",
        "rag_tool = RAGTool(\n",
        "    retriever=retriever,\n",
        "    prompt_template=prompt,\n",
        "    llm=model,\n",
        "    k=5\n",
        ")\n",
        "\n",
        "tools = [rag_tool,search_tool]\n",
        "llm_with_tools = model.bind_tools(tools)\n",
        "\n",
        "\n",
        "def chatbot(state: State):\n",
        "    return {\"messages\": [llm_with_tools.invoke(state[\"messages\"])]}\n",
        "\n",
        "graph_builder = StateGraph(State)\n",
        "graph_builder.add_node(\"chatbot\", chatbot)\n",
        "tool_node = ToolNode(tools=tools)\n",
        "graph_builder.add_node(\"tools\",tool_node)\n",
        "graph_builder.add_conditional_edges(\n",
        "    \"chatbot\",\n",
        "    tools_condition,\n",
        ")\n",
        "graph_builder.add_edge(\"tools\",\"chatbot\")\n",
        "graph_builder.add_edge(START,\"chatbot\")\n",
        "graph = graph_builder.compile(checkpointer=memory)"
      ],
      "metadata": {
        "id": "gopUr5tGXYvv"
      },
      "execution_count": null,
      "outputs": []
    },
    {
      "cell_type": "code",
      "source": [
        "config = {\"configurable\":{\"thread_id\":\"1\"}}\n",
        "user_input = question\n",
        "\n",
        "events = graph.stream(\n",
        "    {\"messages\":[{\"role\":\"user\",\"content\":user_input}]},\n",
        "    config,\n",
        "    stream_mode=\"values\"\n",
        ")\n",
        "for event in events:\n",
        "    event[\"messages\"][-1].pretty_print()"
      ],
      "metadata": {
        "colab": {
          "base_uri": "https://localhost:8080/"
        },
        "id": "X6Uoj5ZfZhny",
        "outputId": "238a33e8-b011-4a1b-8af1-5a5401bd4776"
      },
      "execution_count": null,
      "outputs": [
        {
          "output_type": "stream",
          "name": "stdout",
          "text": [
            "================================\u001b[1m Human Message \u001b[0m=================================\n",
            "\n",
            "LLMにおけるInference Time Scalingとは？\n",
            "==================================\u001b[1m Ai Message \u001b[0m==================================\n",
            "Tool Calls:\n",
            "  rag_retrieval (call_wanWivSK8jPS3iaq3rQHKUTa)\n",
            " Call ID: call_wanWivSK8jPS3iaq3rQHKUTa\n",
            "  Args:\n",
            "    query: LLM Inference Time Scaling\n",
            "=================================\u001b[1m Tool Message \u001b[0m=================================\n",
            "Name: rag_retrieval\n",
            "\n",
            "LLM（大規模言語モデル）の推論時のスケーリングについての文脈では、計算資源をどのように最適化し、推論時の性能を向上させるかに焦点を当てています。以下に、主なポイントをまとめます。\n",
            "\n",
            "1. **推論時の計算量の注目**: 最近の研究では、訓練時だけでなく推論時の計算量に対する関心が高まっています。特に、GPT-o1などのモデルが注目を集めています。\n",
            "\n",
            "2. **リソースの使い方**: 訓練時と同じ計算資源でも、推論時にそれを増やすことでモデルがより賢くなることが示されています。Google DeepMindの研究によると、「テスト時の計算資源を最適にスケーリングすることで、より多くのパラメータを増やすことよりも効果的である」とされています。\n",
            "\n",
            "3. **考える時間の価値**: 簡単な質問には迅速に回答し、より難しい問題にはより多くの計算資源や考える時間を割くことで、性能が向上する可能性があります。\n",
            "\n",
            "4. **効果測定**: o1モデルにおいて、訓練時の計算資源をスケールさせた場合と推論時の計算資源を増やした場合における性能の違いが示されており、推論時に計算資源を有効に使うことで良い結果が得られることがわかります。\n",
            "\n",
            "5. **実現方法**: 推論時の計算リソースをどのように活用するのか、またその効果をどう測定するのかという点も、最近のトレンドとして提案されています。\n",
            "\n",
            "要するに、言語モデルにおいて推論時の計算資源を効果的に活用することが、モデルの性能向上につながる可能性があるということが強調されています。この新しいアプローチは、特に複雑なタスクに対して有効であるとされています。\n",
            "==================================\u001b[1m Ai Message \u001b[0m==================================\n",
            "\n",
            "LLM（大規模言語モデル）における推論時のスケーリングは、計算資源を最適化し、推論性能を向上させることに焦点を当てた領域です。以下は、その主なポイントです。\n",
            "\n",
            "1. **計算量への関心の高まり**: 最近の研究では、訓練時だけでなく推論時の計算量の重要性が増しています。特に、GPT-o1などのモデルが注目を集めています。\n",
            "\n",
            "2. **リソースの最適化**: 訓練時と同様の計算資源を使いつつ、推論時にはそれを増やすことで、モデルの知能が向上することが示されています。研究によると、テスト時の計算資源を最適にスケーリングすることが、単にパラメータを増やすよりも効果的である場合があります。\n",
            "\n",
            "3. **時間の価値**: 簡単な質問には迅速に回答を行い、難しい問題にはより多くの計算資源や時間を割くことで、全体的な性能が向上する可能性があります。\n",
            "\n",
            "4. **性能測定**: o1モデルを用いた研究では、推論時に計算資源を増やすことの効果が示されており、適切にリソースを活用することで良好な結果が得られることが確認されています。\n",
            "\n",
            "5. **実現方法**: 推論時の計算リソースの活用法やその効果測定も、最近のトレンドとして提案されています。\n",
            "\n",
            "要するに、推論時の計算資源を効果的に活用することが、特に複雑なタスクにおいてモデルの性能向上につながる可能性があるという点が強調されています。\n"
          ]
        }
      ]
    },
    {
      "cell_type": "code",
      "source": [
        "def answer_via_return(question: str, graph) -> str:\n",
        "    config = {\"configurable\": {\"thread_id\": \"1\"}}\n",
        "    # ストリーミング開始\n",
        "    events = graph.stream(\n",
        "        {\"messages\": [{\"role\": \"user\", \"content\": question}]},\n",
        "        config,\n",
        "        stream_mode=\"values\"\n",
        "    )\n",
        "\n",
        "    # チャンクをつなぎ合わせるバッファ\n",
        "    full_answer = \"\"\n",
        "\n",
        "    for event in events:\n",
        "        # 最新のアシスタントメッセージを取り出し\n",
        "        msg = event[\"messages\"][-1]\n",
        "        # 文字列チャンクならバッファに追加\n",
        "        if hasattr(msg, \"content\"):\n",
        "            full_answer += msg.content\n",
        "\n",
        "    # すべてのチャンクが来揃ったら最終回答を返す\n",
        "    return full_answer\n",
        "\n",
        "# 使い方\n",
        "final_answer = answer_via_return(question, graph)\n",
        "print(final_answer)\n",
        "\n"
      ],
      "metadata": {
        "colab": {
          "base_uri": "https://localhost:8080/"
        },
        "id": "1M9d2R4TaVIZ",
        "outputId": "a56f6b30-661a-4626-9e3b-60e5e4cf1aff"
      },
      "execution_count": null,
      "outputs": [
        {
          "output_type": "stream",
          "name": "stdout",
          "text": [
            "LLMにおけるInference Time Scalingとは？LLM（大規模言語モデル）における推論時のスケーリングについての議論では、計算資源を訓練時に増やすのと推論時に増やすのとでは、どちらがより効果的かという問いが提起されています。最近の研究では、推論時に計算資源を増やすことが、特定のタスクにおいてより良い結果をもたらす可能性が示されています。\n",
            "\n",
            "具体的には、OpenAIのo1モデルにおける実験結果が挙げられ、訓練時に資源をスケールさせた場合の結果と、推論時に資源をスケールさせた場合の結果を比較し、推論時に計算資源を活用することで性能が向上することが示されています。この推論時のスケーリングは、簡単な問いに対しては短時間で答えられる一方、より複雑な問いに対してはより多くの計算資源（時間）を投入することで、結果の精度が上がるというアプローチを取っています。\n",
            "\n",
            "このトレンドは、推論の段階においても計算資源を戦略的に利用することで、より良い性能を引き出せる可能性があることを示唆しています。そのため、今後の研究においては、推論時の計算資源の使い方の最適化や、どのような状況でこのアプローチが最も効果的かを探求することが重要なテーマになると考えられます。LLM（大規模言語モデル）における推論時のスケーリングは、モデルの性能向上を目指して計算資源を効率的に利用するアプローチです。以下にその主要なポイントをまとめます。\n",
            "\n",
            "1. **リソースの最適化**: LLMにおける推論時の計算資源のスケーリングは、特に特定のタスクに対して効果的であることが示されています。訓練時にリソースを増やすことだけでなく、推論時にそれを増やすことでより良い結果を得ることが可能です。\n",
            "\n",
            "2. **実験結果**: OpenAIのo1モデルを使った研究では、訓練時の計算資源をスケールさせた場合の結果と推論時にリソースを増やした場合の結果が比較されています。この結果、推論時の計算資源を有効に活用することで性能が向上することが確認されています。\n",
            "\n",
            "3. **質問の複雑さに応じたアプローチ**: 簡単な質問には短時間で回答し、より複雑な質問には多くの計算資源や時間を割くことで、精度を高めるという戦略が提唱されています。\n",
            "\n",
            "4. **今後の研究の方向性**: 推論時の計算資源の使い方の最適化や、その効果的な利用法を探求することが、今後の研究にとって重要なテーマとなるでしょう。\n",
            "\n",
            "このように、推論時のスケーリングは、計算資源を戦略的に設計することで、LLMの性能向上に寄与する可能性があります。\n"
          ]
        }
      ]
    },
    {
      "cell_type": "code",
      "source": [
        "from openai import OpenAI\n",
        "from google.colab import userdata\n",
        "OPEN_AI_API_KEY = userdata.get(\"OPENAI_API_KEY\")\n",
        "client = OpenAI(api_key=OPEN_AI_API_KEY, max_retries=5, timeout=60)\n",
        "\n",
        "def openai_generator(query):\n",
        "    messages = [\n",
        "        {\n",
        "            \"role\":\"user\",\n",
        "            \"content\":query\n",
        "        }\n",
        "    ]\n",
        "    response = client.chat.completions.create(\n",
        "        model=\"gpt-4o-mini\",\n",
        "        messages=messages\n",
        "    )\n",
        "    return response.choices[0].message.content\n",
        "\n",
        "def evaluate_answer_accuracy(query, response, reference):\n",
        "\n",
        "    template_accuracy1 = (\n",
        "          \"Instruction: You are a world class state of the art assistant for rating \"\n",
        "          \"a User Answer given a Question. The Question is completely answered by the Reference Answer.\\n\"\n",
        "          \"Say 4, if User Answer is full contained and equivalent to Reference Answer\"\n",
        "          \"in all terms, topics, numbers, metrics, dates and units.\\n\"\n",
        "          \"Say 2, if User Answer is partially contained and almost equivalent to Reference Answer\"\n",
        "          \"in all terms, topics, numbers, metrics, dates and units.\\n\"\n",
        "          \"Say 0, if User Answer is not contained in Reference Answer or not accurate in all terms, topics,\"\n",
        "          \"numbers, metrics, dates and units or the User Answer do not answer the question.\\n\"\n",
        "          \"Do not explain or justify your rating. Your rating must be only 4, 2 or 0 according to the instructions above.\\n\"\n",
        "          \"Even small discrepancies in meaning, terminology, directionality, or implication must result in a lower score. Only rate 4 if the User Answer is a complete and precise match to the Reference Answer in every aspect.\\n\"\n",
        "          \"### Question: {query}\\n\"\n",
        "          \"### {answer0}: {sentence_inference}\\n\"\n",
        "          \"### {answer1}: {sentence_true}\\n\"\n",
        "          \"The rating is:\\n\"\n",
        "      )\n",
        "    template_accuracy2 = (\n",
        "          \"I will rate the User Answer in comparison to the Reference Answer for a given Question.\\n\"\n",
        "          \"A rating of 4 indicates that the User Answer is entirely consistent with the Reference Answer, covering all aspects, topics, numbers, metrics, dates, and units.\\n\"\n",
        "          \"A rating of 2 signifies that the User Answer is mostly aligned with the Reference Answer, with minor discrepancies in some areas.\\n\"\n",
        "          \"A rating of 0 means that the User Answer is either inaccurate, incomplete, or unrelated to the Reference Answer, or it fails to address the Question.\\n\"\n",
        "          \"I will provide the rating without any explanation or justification, adhering to the following scale: 0 (no match), 2 (partial match), 4 (exact match).\\n\"\n",
        "          \"Even minor inconsistencies in meaning, terminology, emphasis, or factual detail should prevent a rating of 4. Only assign a 4 if the User Answer exactly and unambiguously matches the Reference Answer in every respect.\"\n",
        "          \"Do not explain or justify my rating. My rating must be only 4, 2 or 0 only.\\n\\n\"\n",
        "          \"Question: {query}\\n\\n\"\n",
        "          \"{answer0}: {sentence_inference}\\n\\n\"\n",
        "          \"{answer1}: {sentence_true}\\n\\n\"\n",
        "          \"Rating: \"\n",
        "      )\n",
        "\n",
        "    score1 = openai_generator(\n",
        "                template_accuracy1.format(\n",
        "                      query=query,\n",
        "                      answer0=\"User Answer\",\n",
        "                      answer1=\"Reference Answer\",\n",
        "                      sentence_inference=response,\n",
        "                      sentence_true=reference,\n",
        "                    )\n",
        "                )\n",
        "    try:\n",
        "      score1 = int(score1)\n",
        "    except:\n",
        "      print(\"Failed\")\n",
        "      score1 = 0\n",
        "\n",
        "    score2 = openai_generator(\n",
        "                template_accuracy2.format(\n",
        "                        query=query,\n",
        "                        answer0=\"Reference Answer\",\n",
        "                        answer1=\"User Answer\",\n",
        "                        sentence_inference=reference,\n",
        "                        sentence_true=response,\n",
        "                    )\n",
        "                  )\n",
        "\n",
        "    try:\n",
        "      score2 = int(score2)\n",
        "    except:\n",
        "      print(\"Failed\")\n",
        "      score2 = 0\n",
        "\n",
        "\n",
        "    return (score1 + score2) / 2"
      ],
      "metadata": {
        "id": "37ZLGHTfocpc"
      },
      "execution_count": null,
      "outputs": []
    },
    {
      "cell_type": "code",
      "source": [
        "evaluate_answer_accuracy(question, final_answer, gold_answer)"
      ],
      "metadata": {
        "colab": {
          "base_uri": "https://localhost:8080/"
        },
        "id": "NBtcbUMktc3R",
        "outputId": "2a8b8860-ae40-4a18-aa69-a3ce392086cc"
      },
      "execution_count": null,
      "outputs": [
        {
          "output_type": "execute_result",
          "data": {
            "text/plain": [
              "1.0"
            ]
          },
          "metadata": {},
          "execution_count": 25
        }
      ]
    },
    {
      "cell_type": "code",
      "source": [],
      "metadata": {
        "id": "6S7C9VMytg0w"
      },
      "execution_count": null,
      "outputs": []
    }
  ]
}